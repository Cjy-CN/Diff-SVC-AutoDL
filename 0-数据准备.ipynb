{
 "cells": [
  {
   "cell_type": "markdown",
   "id": "1c368a50-8f45-4fd6-882c-0723d7ead4d3",
   "metadata": {},
   "source": [
    "\n",
    "\n",
    "1、把你本地训练用的音频材料压缩成zip的压缩包，压缩包名字别带中文，然后上传到你的阿里云盘\n",
    "\n",
    "2、打开https://www.autodl.com/console/instance/list 在你的实例的右边有一个AutoPanel，打开它\n",
    "\n",
    "页面正上方中间有一个“公网网盘”，设置独立访问密码随便写一个，然后登录你的阿里云盘\n",
    "\n",
    "3、选择你之前上传的数据集点击下载\n",
    "\n",
    "\n"
   ]
  },
  {
   "cell_type": "code",
   "execution_count": null,
   "id": "6aa66014-a387-4f10-991c-1c740ee27752",
   "metadata": {},
   "outputs": [],
   "source": [
    "#把下面的xxx改成你压缩包的名字\n",
    "\n",
    "!mv /root/autodl-tmp/xxx.zip /root/diff-svc-main/data/raw/\n",
    "!unzip -d data/raw data/raw/xxx.zip"
   ]
  },
  {
   "cell_type": "markdown",
   "id": "909b3ea2-4d00-45c3-814d-41ad2ea21348",
   "metadata": {},
   "source": [
    "\n",
    "\n",
    "修改配置文件\n",
    "\n",
    "1、打开training目录下的config_nsf.yaml\n",
    "\n",
    "2、按ctrl+f，搜索“项目名字”，把所有“项目名字”替换为你说话人的名字，不能带中文，不能带中文，不能带中文！！！\n",
    "\n",
    "3、按ctrl+f，搜索“max_sentences”,租的显卡是24G显存就用88,12G显存用44\n",
    "\n",
    "4、按ctrl+f，搜索“lr”,租的显卡是24G显存就用0.0008,12G显存用0.0004\n",
    "\n"
   ]
  }
 ],
 "metadata": {
  "kernelspec": {
   "display_name": "Python 3 (ipykernel)",
   "language": "python",
   "name": "python3"
  },
  "language_info": {
   "codemirror_mode": {
    "name": "ipython",
    "version": 3
   },
   "file_extension": ".py",
   "mimetype": "text/x-python",
   "name": "python",
   "nbconvert_exporter": "python",
   "pygments_lexer": "ipython3",
   "version": "3.8.10"
  }
 },
 "nbformat": 4,
 "nbformat_minor": 5
}
