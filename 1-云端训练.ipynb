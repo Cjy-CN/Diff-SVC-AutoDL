{
 "cells": [
  {
   "cell_type": "raw",
   "id": "5ee9ff53-69e8-44f6-9c9d-f6479229b41b",
   "metadata": {},
   "source": [
    "1、数据预处理\n",
    "（请先上传好音频文件，并修改配置文件）"
   ]
  },
  {
   "cell_type": "markdown",
   "id": "db6dd8ab-f7ad-4720-a59b-ffb43f402d0e",
   "metadata": {},
   "source": [
    "export PYTHONPATH=.\n",
    "CUDA_VISIBLE_DEVICES=0 python preprocessing/binarize.py --config training/config_nsf.yaml"
   ]
  },
  {
   "cell_type": "raw",
   "id": "b05b2aa9-1fec-453c-9de1-cc901d9cc2f0",
   "metadata": {},
   "source": [
    "2、开始训练\n",
    "\n",
    "把下面代码的“xxx”改成你自己项目的名字！！！\n",
    "把下面代码的“xxx”改成你自己项目的名字！！！\n",
    "把下面代码的“xxx”改成你自己项目的名字！！！"
   ]
  },
  {
   "cell_type": "markdown",
   "id": "e72baf2d-7663-4c57-960d-a2c328fef0cb",
   "metadata": {},
   "source": [
    "CUDA_VISIBLE_DEVICES=0 python run.py --config training/config_nsf.yaml --exp_name xxx --reset"
   ]
  }
 ],
 "metadata": {
  "kernelspec": {
   "display_name": "Python 3 (ipykernel)",
   "language": "python",
   "name": "python3"
  },
  "language_info": {
   "codemirror_mode": {
    "name": "ipython",
    "version": 3
   },
   "file_extension": ".py",
   "mimetype": "text/x-python",
   "name": "python",
   "nbconvert_exporter": "python",
   "pygments_lexer": "ipython3",
   "version": "3.8.10"
  }
 },
 "nbformat": 4,
 "nbformat_minor": 5
}
